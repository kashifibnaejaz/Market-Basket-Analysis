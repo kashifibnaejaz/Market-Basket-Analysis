{
 "cells": [
  {
   "cell_type": "code",
   "execution_count": 2,
   "id": "10ddea50-b63f-4859-b941-ae2865744f27",
   "metadata": {},
   "outputs": [
    {
     "name": "stdout",
     "output_type": "stream",
     "text": [
      "C:/Users/anand/Documents/Dataset\\Assignment-1_Data.csv\n",
      "C:/Users/anand/Documents/Dataset\\Assignment-1_Data.xlsx\n"
     ]
    }
   ],
   "source": [
    "#import necessary libraries\n",
    "import numpy as np\n",
    "import pandas as pd\n",
    "import matplotlib.pyplot as plt\n",
    "import seaborn as sns\n",
    "%matplotlib inline\n",
    "import plotly.express as px\n",
    "import warnings\n",
    "warnings.filterwarnings('ignore')\n",
    "import glob\n",
    "\n",
    "\n",
    "file_paths = glob.glob('C:/Users/anand/Documents/Dataset/*')  #Get list of file paths in specified directory\n",
    "\n",
    "\n",
    "for file_path in file_paths:      #Iteration through list of file paths \n",
    "    print(file_path)              #printing file path"
   ]
  },
  {
   "cell_type": "code",
   "execution_count": 3,
   "id": "f7e6aa2a-db78-4901-ba9b-34ee0a32523b",
   "metadata": {},
   "outputs": [],
   "source": [
    " # Reading a CSV file using Pandas library\n",
    "dataframe = pd.read_csv('C:/Users/anand/Documents/Dataset\\Assignment-1_Data.csv', delimiter=';') "
   ]
  },
  {
   "cell_type": "code",
   "execution_count": 4,
   "id": "38e60342-e49e-4394-9cdf-bbf173a0a789",
   "metadata": {},
   "outputs": [
    {
     "name": "stdout",
     "output_type": "stream",
     "text": [
      "           Column Name Data Type  Non-Null Count  Null Count  Unique Values\n",
      "BillNo          BillNo    object          522064           0          21665\n",
      "Itemname      Itemname    object          520609        1455           4185\n",
      "Quantity      Quantity     int64          522064           0            690\n",
      "Date              Date    object          522064           0          19641\n",
      "Price            Price    object          522064           0           1285\n",
      "CustomerID  CustomerID   float64          388023      134041           4297\n",
      "Country        Country    object          522064           0             30\n"
     ]
    }
   ],
   "source": [
    "#creation of summary dataframe to describe the structure of dataframe 'Dataframe'\n",
    "summary = pd.DataFrame({\n",
    "    'Column Name': dataframe.columns,\n",
    "    'Data Type': dataframe.dtypes,\n",
    "    'Non-Null Count': dataframe.count(),\n",
    "    'Null Count': dataframe.isnull().sum(),\n",
    "    'Unique Values': dataframe.nunique(),\n",
    "})\n",
    "\n",
    "print(summary)    #print summary dataframe\n"
   ]
  },
  {
   "cell_type": "code",
   "execution_count": 5,
   "id": "45fbce9b-880c-43f6-af08-0ca8f63a4e80",
   "metadata": {},
   "outputs": [
    {
     "name": "stdout",
     "output_type": "stream",
     "text": [
      "BillNo             0\n",
      "Itemname        1455\n",
      "Quantity           0\n",
      "Date               0\n",
      "Price              0\n",
      "CustomerID    134041\n",
      "Country            0\n",
      "dtype: int64\n"
     ]
    }
   ],
   "source": [
    "null_counts = dataframe.apply(lambda x: x.isnull().sum())   #calculating no of null values in each column in the dataframe\n",
    "print(null_counts)      #print counts of null values in each column"
   ]
  },
  {
   "cell_type": "code",
   "execution_count": 6,
   "id": "4bb13b20-6037-4819-b00e-dc34a93be924",
   "metadata": {},
   "outputs": [
    {
     "name": "stdout",
     "output_type": "stream",
     "text": [
      "BillNo Itemname  Quantity             Date Price  CustomerID        Country\n",
      "536589      NaN       -10 01.12.2010 16:50     0         NaN United Kingdom\n",
      "536764      NaN       -38 02.12.2010 14:42     0         NaN United Kingdom\n",
      "536996      NaN       -20 03.12.2010 15:30     0         NaN United Kingdom\n",
      "536997      NaN       -20 03.12.2010 15:30     0         NaN United Kingdom\n",
      "536998      NaN        -6 03.12.2010 15:30     0         NaN United Kingdom\n"
     ]
    }
   ],
   "source": [
    "#Filter the dataframe such that 'Quantity' is less than or equal to 0 and displaying first 5 rows of result in table format.\n",
    "result = dataframe[dataframe['Quantity'] <= 0].head(5).to_string(index=False)\n",
    "\n",
    "print(result) #print result"
   ]
  },
  {
   "cell_type": "code",
   "execution_count": 7,
   "id": "e816076a-4fbc-40b5-86ba-6974833e9749",
   "metadata": {},
   "outputs": [],
   "source": [
    "#Filter the dataframe where the Quantity is greater than zero\n",
    "dataframe = dataframe[dataframe['Quantity'] > 0]"
   ]
  },
  {
   "cell_type": "code",
   "execution_count": 8,
   "id": "ca3d07f2-b0fa-431d-8f3b-5e15e9df1ed7",
   "metadata": {},
   "outputs": [
    {
     "data": {
      "text/html": [
       "<div>\n",
       "<style scoped>\n",
       "    .dataframe tbody tr th:only-of-type {\n",
       "        vertical-align: middle;\n",
       "    }\n",
       "\n",
       "    .dataframe tbody tr th {\n",
       "        vertical-align: top;\n",
       "    }\n",
       "\n",
       "    .dataframe thead th {\n",
       "        text-align: right;\n",
       "    }\n",
       "</style>\n",
       "<table border=\"1\" class=\"dataframe\">\n",
       "  <thead>\n",
       "    <tr style=\"text-align: right;\">\n",
       "      <th></th>\n",
       "      <th>BillNo</th>\n",
       "      <th>Itemname</th>\n",
       "      <th>Quantity</th>\n",
       "      <th>Date</th>\n",
       "      <th>Price</th>\n",
       "      <th>CustomerID</th>\n",
       "      <th>Country</th>\n",
       "    </tr>\n",
       "  </thead>\n",
       "  <tbody>\n",
       "    <tr>\n",
       "      <th>613</th>\n",
       "      <td>536414</td>\n",
       "      <td>NaN</td>\n",
       "      <td>56</td>\n",
       "      <td>01.12.2010 11:52</td>\n",
       "      <td>0</td>\n",
       "      <td>NaN</td>\n",
       "      <td>United Kingdom</td>\n",
       "    </tr>\n",
       "    <tr>\n",
       "      <th>1937</th>\n",
       "      <td>536545</td>\n",
       "      <td>NaN</td>\n",
       "      <td>1</td>\n",
       "      <td>01.12.2010 14:32</td>\n",
       "      <td>0</td>\n",
       "      <td>NaN</td>\n",
       "      <td>United Kingdom</td>\n",
       "    </tr>\n",
       "    <tr>\n",
       "      <th>1938</th>\n",
       "      <td>536546</td>\n",
       "      <td>NaN</td>\n",
       "      <td>1</td>\n",
       "      <td>01.12.2010 14:33</td>\n",
       "      <td>0</td>\n",
       "      <td>NaN</td>\n",
       "      <td>United Kingdom</td>\n",
       "    </tr>\n",
       "    <tr>\n",
       "      <th>1939</th>\n",
       "      <td>536547</td>\n",
       "      <td>NaN</td>\n",
       "      <td>1</td>\n",
       "      <td>01.12.2010 14:33</td>\n",
       "      <td>0</td>\n",
       "      <td>NaN</td>\n",
       "      <td>United Kingdom</td>\n",
       "    </tr>\n",
       "    <tr>\n",
       "      <th>1940</th>\n",
       "      <td>536549</td>\n",
       "      <td>NaN</td>\n",
       "      <td>1</td>\n",
       "      <td>01.12.2010 14:34</td>\n",
       "      <td>0</td>\n",
       "      <td>NaN</td>\n",
       "      <td>United Kingdom</td>\n",
       "    </tr>\n",
       "  </tbody>\n",
       "</table>\n",
       "</div>"
      ],
      "text/plain": [
       "      BillNo Itemname  Quantity              Date Price  CustomerID  \\\n",
       "613   536414      NaN        56  01.12.2010 11:52     0         NaN   \n",
       "1937  536545      NaN         1  01.12.2010 14:32     0         NaN   \n",
       "1938  536546      NaN         1  01.12.2010 14:33     0         NaN   \n",
       "1939  536547      NaN         1  01.12.2010 14:33     0         NaN   \n",
       "1940  536549      NaN         1  01.12.2010 14:34     0         NaN   \n",
       "\n",
       "             Country  \n",
       "613   United Kingdom  \n",
       "1937  United Kingdom  \n",
       "1938  United Kingdom  \n",
       "1939  United Kingdom  \n",
       "1940  United Kingdom  "
      ]
     },
     "execution_count": 8,
     "metadata": {},
     "output_type": "execute_result"
    }
   ],
   "source": [
    "#Filter the dataframe where price is less than or equal to 0 and display the first 5 rows\n",
    "dataframe.loc[dataframe['Price']<='0'][:5]"
   ]
  },
  {
   "cell_type": "code",
   "execution_count": 9,
   "id": "8987946c-d1aa-445b-b6d2-ea1e6b23a7f3",
   "metadata": {},
   "outputs": [],
   "source": [
    "#Filter the dataframe such that it contains only the rows where price is greater than 0\n",
    "dataframe=dataframe.loc[dataframe['Price']>'0']"
   ]
  },
  {
   "cell_type": "code",
   "execution_count": 10,
   "id": "5ef8c55a-811f-4181-9377-41fc27f7ff3b",
   "metadata": {},
   "outputs": [
    {
     "name": "stdout",
     "output_type": "stream",
     "text": [
      "BillNo       Itemname  Quantity             Date  Price  CustomerID        Country\n",
      "536370        POSTAGE         3 01.12.2010 08:45     18     12583.0         France\n",
      "536403        POSTAGE         1 01.12.2010 11:27     15     12791.0    Netherlands\n",
      "536527        POSTAGE         1 01.12.2010 13:04     18     12662.0        Germany\n",
      "536544 DOTCOM POSTAGE         1 01.12.2010 14:32 569,77         NaN United Kingdom\n",
      "536569         Manual         1 01.12.2010 15:35   1,25     16274.0 United Kingdom\n"
     ]
    }
   ],
   "source": [
    "#Define list of items to filter in dataframe\n",
    "item_names = ['POSTAGE', 'DOTCOM POSTAGE', 'Adjust bad debt', 'Manual']\n",
    "\n",
    "#use query method to filter rows that matches with the item_names\n",
    "result = dataframe.query('Itemname == @item_names[0] | Itemname == @item_names[1] | Itemname == @item_names[2] | Itemname == @item_names[3]').head().to_string(index=False)\n",
    "\n",
    "#print the filtered result\n",
    "print(result)"
   ]
  },
  {
   "cell_type": "code",
   "execution_count": 11,
   "id": "309d5b66-f34d-4bb0-915e-793b72bccf3a",
   "metadata": {},
   "outputs": [],
   "source": [
    "#Filter the dataframe to remove rows where Itemname matches with any one of values in item_names\n",
    "dataframe=dataframe.loc[(dataframe['Itemname']!='POSTAGE')&(dataframe['Itemname']!='DOTCOM POSTAGE')&(dataframe['Itemname']!='Adjust bad debt')&(dataframe['Itemname']!='Manual')]"
   ]
  },
  {
   "cell_type": "code",
   "execution_count": 12,
   "id": "900f34e3-e4cb-4fb5-bd53-453f36bddc2a",
   "metadata": {},
   "outputs": [
    {
     "data": {
      "text/plain": [
       "BillNo             0\n",
       "Itemname           0\n",
       "Quantity           0\n",
       "Date               0\n",
       "Price              0\n",
       "CustomerID    130813\n",
       "Country            0\n",
       "dtype: int64"
      ]
     },
     "execution_count": 12,
     "metadata": {},
     "output_type": "execute_result"
    }
   ],
   "source": [
    "#Calculate count of null values for each column in the 'dataframe' and display counts of null values\n",
    "dataframe.isnull().sum()"
   ]
  },
  {
   "cell_type": "code",
   "execution_count": 13,
   "id": "23e386f9-7dc6-448f-b3d1-ef5bf6c8ddef",
   "metadata": {},
   "outputs": [
    {
     "data": {
      "text/plain": [
       "BillNo        0\n",
       "Itemname      0\n",
       "Quantity      0\n",
       "Date          0\n",
       "Price         0\n",
       "CustomerID    0\n",
       "Country       0\n",
       "dtype: int64"
      ]
     },
     "execution_count": 13,
     "metadata": {},
     "output_type": "execute_result"
    }
   ],
   "source": [
    "dataframe=dataframe.fillna('-')  #Replaces NaN in dataframe to '-'\n",
    "dataframe.isnull().sum()  #display count of null values"
   ]
  },
  {
   "cell_type": "code",
   "execution_count": 14,
   "id": "77747188-d271-478f-971b-0162bb857799",
   "metadata": {},
   "outputs": [
    {
     "data": {
      "text/html": [
       "<div>\n",
       "<style scoped>\n",
       "    .dataframe tbody tr th:only-of-type {\n",
       "        vertical-align: middle;\n",
       "    }\n",
       "\n",
       "    .dataframe tbody tr th {\n",
       "        vertical-align: top;\n",
       "    }\n",
       "\n",
       "    .dataframe thead th {\n",
       "        text-align: right;\n",
       "    }\n",
       "</style>\n",
       "<table border=\"1\" class=\"dataframe\">\n",
       "  <thead>\n",
       "    <tr style=\"text-align: right;\">\n",
       "      <th></th>\n",
       "      <th>BillNo</th>\n",
       "      <th>Itemname</th>\n",
       "      <th>Quantity</th>\n",
       "      <th>Date</th>\n",
       "      <th>Price</th>\n",
       "      <th>CustomerID</th>\n",
       "      <th>Country</th>\n",
       "      <th>Year</th>\n",
       "      <th>Month</th>\n",
       "    </tr>\n",
       "  </thead>\n",
       "  <tbody>\n",
       "    <tr>\n",
       "      <th>0</th>\n",
       "      <td>536365</td>\n",
       "      <td>WHITE HANGING HEART T-LIGHT HOLDER</td>\n",
       "      <td>6</td>\n",
       "      <td>01.12.2010 08:26</td>\n",
       "      <td>2,55</td>\n",
       "      <td>17850.0</td>\n",
       "      <td>United Kingdom</td>\n",
       "      <td>2010</td>\n",
       "      <td>12</td>\n",
       "    </tr>\n",
       "    <tr>\n",
       "      <th>1</th>\n",
       "      <td>536365</td>\n",
       "      <td>WHITE METAL LANTERN</td>\n",
       "      <td>6</td>\n",
       "      <td>01.12.2010 08:26</td>\n",
       "      <td>3,39</td>\n",
       "      <td>17850.0</td>\n",
       "      <td>United Kingdom</td>\n",
       "      <td>2010</td>\n",
       "      <td>12</td>\n",
       "    </tr>\n",
       "    <tr>\n",
       "      <th>2</th>\n",
       "      <td>536365</td>\n",
       "      <td>CREAM CUPID HEARTS COAT HANGER</td>\n",
       "      <td>8</td>\n",
       "      <td>01.12.2010 08:26</td>\n",
       "      <td>2,75</td>\n",
       "      <td>17850.0</td>\n",
       "      <td>United Kingdom</td>\n",
       "      <td>2010</td>\n",
       "      <td>12</td>\n",
       "    </tr>\n",
       "    <tr>\n",
       "      <th>3</th>\n",
       "      <td>536365</td>\n",
       "      <td>KNITTED UNION FLAG HOT WATER BOTTLE</td>\n",
       "      <td>6</td>\n",
       "      <td>01.12.2010 08:26</td>\n",
       "      <td>3,39</td>\n",
       "      <td>17850.0</td>\n",
       "      <td>United Kingdom</td>\n",
       "      <td>2010</td>\n",
       "      <td>12</td>\n",
       "    </tr>\n",
       "    <tr>\n",
       "      <th>4</th>\n",
       "      <td>536365</td>\n",
       "      <td>RED WOOLLY HOTTIE WHITE HEART.</td>\n",
       "      <td>6</td>\n",
       "      <td>01.12.2010 08:26</td>\n",
       "      <td>3,39</td>\n",
       "      <td>17850.0</td>\n",
       "      <td>United Kingdom</td>\n",
       "      <td>2010</td>\n",
       "      <td>12</td>\n",
       "    </tr>\n",
       "  </tbody>\n",
       "</table>\n",
       "</div>"
      ],
      "text/plain": [
       "   BillNo                             Itemname  Quantity              Date  \\\n",
       "0  536365   WHITE HANGING HEART T-LIGHT HOLDER         6  01.12.2010 08:26   \n",
       "1  536365                  WHITE METAL LANTERN         6  01.12.2010 08:26   \n",
       "2  536365       CREAM CUPID HEARTS COAT HANGER         8  01.12.2010 08:26   \n",
       "3  536365  KNITTED UNION FLAG HOT WATER BOTTLE         6  01.12.2010 08:26   \n",
       "4  536365       RED WOOLLY HOTTIE WHITE HEART.         6  01.12.2010 08:26   \n",
       "\n",
       "  Price CustomerID         Country  Year Month  \n",
       "0  2,55    17850.0  United Kingdom  2010    12  \n",
       "1  3,39    17850.0  United Kingdom  2010    12  \n",
       "2  2,75    17850.0  United Kingdom  2010    12  \n",
       "3  3,39    17850.0  United Kingdom  2010    12  \n",
       "4  3,39    17850.0  United Kingdom  2010    12  "
      ]
     },
     "execution_count": 14,
     "metadata": {},
     "output_type": "execute_result"
    }
   ],
   "source": [
    "# Extract and create a new 'Year' column from the 'Date' column by splitting based on the '.' separator\n",
    "dataframe['Year']=dataframe['Date'].apply(lambda x:x.split('.')[2])\n",
    "\n",
    "#Split the 'Year' column to remove any time information (if present)\n",
    "dataframe['Year']=dataframe['Year'].apply(lambda x:x.split(' ')[0])\n",
    "\n",
    "# Extract and create a new 'Month' column from the 'Date' column by splitting based on the '.' separator\n",
    "dataframe['Month']=dataframe['Date'].apply(lambda x:x.split('.')[1])\n",
    "\n",
    "#Display of updated dataframe\n",
    "dataframe.head()"
   ]
  },
  {
   "cell_type": "code",
   "execution_count": 15,
   "id": "47cbd628-5054-4e1c-b984-f09907ef5f45",
   "metadata": {},
   "outputs": [
    {
     "data": {
      "text/html": [
       "<div>\n",
       "<style scoped>\n",
       "    .dataframe tbody tr th:only-of-type {\n",
       "        vertical-align: middle;\n",
       "    }\n",
       "\n",
       "    .dataframe tbody tr th {\n",
       "        vertical-align: top;\n",
       "    }\n",
       "\n",
       "    .dataframe thead th {\n",
       "        text-align: right;\n",
       "    }\n",
       "</style>\n",
       "<table border=\"1\" class=\"dataframe\">\n",
       "  <thead>\n",
       "    <tr style=\"text-align: right;\">\n",
       "      <th></th>\n",
       "      <th>BillNo</th>\n",
       "      <th>Itemname</th>\n",
       "      <th>Quantity</th>\n",
       "      <th>Date</th>\n",
       "      <th>Price</th>\n",
       "      <th>CustomerID</th>\n",
       "      <th>Country</th>\n",
       "      <th>Year</th>\n",
       "      <th>Month</th>\n",
       "      <th>Total price</th>\n",
       "    </tr>\n",
       "  </thead>\n",
       "  <tbody>\n",
       "    <tr>\n",
       "      <th>0</th>\n",
       "      <td>536365</td>\n",
       "      <td>WHITE HANGING HEART T-LIGHT HOLDER</td>\n",
       "      <td>6</td>\n",
       "      <td>01.12.2010 08:26</td>\n",
       "      <td>2.55</td>\n",
       "      <td>17850.0</td>\n",
       "      <td>United Kingdom</td>\n",
       "      <td>2010</td>\n",
       "      <td>12</td>\n",
       "      <td>15.30</td>\n",
       "    </tr>\n",
       "    <tr>\n",
       "      <th>1</th>\n",
       "      <td>536365</td>\n",
       "      <td>WHITE METAL LANTERN</td>\n",
       "      <td>6</td>\n",
       "      <td>01.12.2010 08:26</td>\n",
       "      <td>3.39</td>\n",
       "      <td>17850.0</td>\n",
       "      <td>United Kingdom</td>\n",
       "      <td>2010</td>\n",
       "      <td>12</td>\n",
       "      <td>20.34</td>\n",
       "    </tr>\n",
       "    <tr>\n",
       "      <th>2</th>\n",
       "      <td>536365</td>\n",
       "      <td>CREAM CUPID HEARTS COAT HANGER</td>\n",
       "      <td>8</td>\n",
       "      <td>01.12.2010 08:26</td>\n",
       "      <td>2.75</td>\n",
       "      <td>17850.0</td>\n",
       "      <td>United Kingdom</td>\n",
       "      <td>2010</td>\n",
       "      <td>12</td>\n",
       "      <td>22.00</td>\n",
       "    </tr>\n",
       "    <tr>\n",
       "      <th>3</th>\n",
       "      <td>536365</td>\n",
       "      <td>KNITTED UNION FLAG HOT WATER BOTTLE</td>\n",
       "      <td>6</td>\n",
       "      <td>01.12.2010 08:26</td>\n",
       "      <td>3.39</td>\n",
       "      <td>17850.0</td>\n",
       "      <td>United Kingdom</td>\n",
       "      <td>2010</td>\n",
       "      <td>12</td>\n",
       "      <td>20.34</td>\n",
       "    </tr>\n",
       "    <tr>\n",
       "      <th>4</th>\n",
       "      <td>536365</td>\n",
       "      <td>RED WOOLLY HOTTIE WHITE HEART.</td>\n",
       "      <td>6</td>\n",
       "      <td>01.12.2010 08:26</td>\n",
       "      <td>3.39</td>\n",
       "      <td>17850.0</td>\n",
       "      <td>United Kingdom</td>\n",
       "      <td>2010</td>\n",
       "      <td>12</td>\n",
       "      <td>20.34</td>\n",
       "    </tr>\n",
       "  </tbody>\n",
       "</table>\n",
       "</div>"
      ],
      "text/plain": [
       "   BillNo                             Itemname  Quantity              Date  \\\n",
       "0  536365   WHITE HANGING HEART T-LIGHT HOLDER         6  01.12.2010 08:26   \n",
       "1  536365                  WHITE METAL LANTERN         6  01.12.2010 08:26   \n",
       "2  536365       CREAM CUPID HEARTS COAT HANGER         8  01.12.2010 08:26   \n",
       "3  536365  KNITTED UNION FLAG HOT WATER BOTTLE         6  01.12.2010 08:26   \n",
       "4  536365       RED WOOLLY HOTTIE WHITE HEART.         6  01.12.2010 08:26   \n",
       "\n",
       "   Price CustomerID         Country  Year Month  Total price  \n",
       "0   2.55    17850.0  United Kingdom  2010    12        15.30  \n",
       "1   3.39    17850.0  United Kingdom  2010    12        20.34  \n",
       "2   2.75    17850.0  United Kingdom  2010    12        22.00  \n",
       "3   3.39    17850.0  United Kingdom  2010    12        20.34  \n",
       "4   3.39    17850.0  United Kingdom  2010    12        20.34  "
      ]
     },
     "execution_count": 15,
     "metadata": {},
     "output_type": "execute_result"
    }
   ],
   "source": [
    "#Replace , with . and convert Price column value to float\n",
    "dataframe['Price']=dataframe['Price'].str.replace(',','.').astype('float64')\n",
    "\n",
    "#Create and Calculate Total Price by multiplying 'Quantity' and 'Price' columns\n",
    "dataframe['Total price']=dataframe.Quantity*dataframe.Price\n",
    "\n",
    "#Display updated dataframe\n",
    "dataframe.head()"
   ]
  },
  {
   "cell_type": "code",
   "execution_count": 16,
   "id": "f281007d-7b13-4558-b816-b8118667661a",
   "metadata": {},
   "outputs": [
    {
     "data": {
      "text/plain": [
       "Year  Month\n",
       "2010  12        778386.780\n",
       "2011  01        648311.120\n",
       "      02        490058.230\n",
       "      03        659979.660\n",
       "      04        507366.971\n",
       "      05        721789.800\n",
       "      06        710158.020\n",
       "      07        642528.481\n",
       "      08        701411.420\n",
       "      09        981408.102\n",
       "      10       1072317.070\n",
       "      11       1421055.630\n",
       "      12        606953.650\n",
       "Name: Total price, dtype: float64"
      ]
     },
     "execution_count": 16,
     "metadata": {},
     "output_type": "execute_result"
    }
   ],
   "source": [
    "# Groups 'Year' and 'Month' and calculate the sum of 'Total price' for each group\n",
    "dataframe.groupby(['Year','Month'])['Total price'].sum()"
   ]
  },
  {
   "cell_type": "code",
   "execution_count": 17,
   "id": "857e7290-f0e2-4634-bc90-131a504d3784",
   "metadata": {},
   "outputs": [],
   "source": [
    "#Filter the dataframe to exclude rows where 'Year' is equal to '2010' in order to perform data analytic properly. \n",
    "dataframe = dataframe[dataframe['Year'] != '2010']"
   ]
  },
  {
   "cell_type": "code",
   "execution_count": null,
   "id": "864edd7d-50c1-4319-bed4-f361cd079534",
   "metadata": {},
   "outputs": [],
   "source": []
  }
 ],
 "metadata": {
  "kernelspec": {
   "display_name": "Python 3 (ipykernel)",
   "language": "python",
   "name": "python3"
  },
  "language_info": {
   "codemirror_mode": {
    "name": "ipython",
    "version": 3
   },
   "file_extension": ".py",
   "mimetype": "text/x-python",
   "name": "python",
   "nbconvert_exporter": "python",
   "pygments_lexer": "ipython3",
   "version": "3.11.4"
  }
 },
 "nbformat": 4,
 "nbformat_minor": 5
}
